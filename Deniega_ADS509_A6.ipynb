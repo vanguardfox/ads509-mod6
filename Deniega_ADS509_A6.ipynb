{
 "cells": [
  {
   "cell_type": "markdown",
   "id": "f30e3304-215a-407c-861c-419d7c046ce7",
   "metadata": {},
   "source": [
    "# John Vincent Deniega\n",
    "# ADS 509 - Fall 2024\n",
    "# 13 October 2024"
   ]
  },
  {
   "cell_type": "markdown",
   "id": "7f79baf9",
   "metadata": {},
   "source": [
    "# ADS 509 Sentiment Assignment\n",
    "\n",
    "This notebook holds the Sentiment Assignment for Module 6 in ADS 509, Applied Text Mining. Work through this notebook, writing code and answering questions where required. \n",
    "\n",
    "In a previous assignment you put together Twitter data and lyrics data on two artists. In this assignment we apply sentiment analysis to those data sets. If, for some reason, you did not complete that previous assignment, data to use for this assignment can be found in the assignment materials section of Blackboard. \n"
   ]
  },
  {
   "cell_type": "markdown",
   "id": "aae8e2e1",
   "metadata": {},
   "source": [
    "## General Assignment Instructions\n",
    "\n",
    "These instructions are included in every assignment, to remind you of the coding standards for the class. Feel free to delete this cell after reading it. \n",
    "\n",
    "One sign of mature code is conforming to a style guide. We recommend the [Google Python Style Guide](https://google.github.io/styleguide/pyguide.html). If you use a different style guide, please include a cell with a link. \n",
    "\n",
    "Your code should be relatively easy-to-read, sensibly commented, and clean. Writing code is a messy process, so please be sure to edit your final submission. Remove any cells that are not needed or parts of cells that contain unnecessary code. Remove inessential `import` statements and make sure that all such statements are moved into the designated cell. \n",
    "\n",
    "Make use of non-code cells for written commentary. These cells should be grammatical and clearly written. In some of these cells you will have questions to answer. The questions will be marked by a \"Q:\" and will have a corresponding \"A:\" spot for you. *Make sure to answer every question marked with a `Q:` for full credit.* \n"
   ]
  },
  {
   "cell_type": "code",
   "execution_count": 1,
   "id": "e2d096b7",
   "metadata": {},
   "outputs": [],
   "source": [
    "import os\n",
    "import re\n",
    "import emoji\n",
    "import pandas as pd\n",
    "import numpy as np\n",
    "import matplotlib.pyplot as plt\n",
    "\n",
    "from collections import Counter, defaultdict\n",
    "from string import punctuation\n",
    "\n",
    "from nltk.corpus import stopwords\n",
    "\n",
    "sw = stopwords.words(\"english\")"
   ]
  },
  {
   "cell_type": "code",
   "execution_count": 2,
   "id": "6b555ab2",
   "metadata": {},
   "outputs": [],
   "source": [
    "# Add any additional import statements you need here\n",
    "import string"
   ]
  },
  {
   "cell_type": "code",
   "execution_count": 3,
   "id": "923b5a86",
   "metadata": {},
   "outputs": [],
   "source": [
    "# change `data_location` to the location of the folder on your machine.\n",
    "data_location = os.path.expanduser(\"~/Desktop/usd_ADS/github/ads509-mod6/M1_Results/\")\n",
    "\n",
    "# These subfolders should still work if you correctly stored the \n",
    "# data from the Module 1 assignment\n",
    "twitter_folder = \"twitter/\"\n",
    "lyrics_folder = \"lyrics/\"\n",
    "\n",
    "positive_words_file = \"positive-words.txt\"\n",
    "negative_words_file = \"negative-words.txt\"\n",
    "tidy_text_file = \"tidytext_sentiments.txt\""
   ]
  },
  {
   "cell_type": "markdown",
   "id": "9d3bf93e",
   "metadata": {},
   "source": [
    "## Data Input\n",
    "\n",
    "Now read in each of the corpora. For the lyrics data, it may be convenient to store the entire contents of the file to make it easier to inspect the titles individually, as you'll do in the last part of the assignment. In the solution, I stored the lyrics data in a dictionary with two dimensions of keys: artist and song. The value was the file contents. A Pandas data frame would work equally well. \n",
    "\n",
    "For the Twitter data, we only need the description field for this assignment. Feel free all the descriptions read it into a data structure. In the solution, I stored the descriptions as a dictionary of lists, with the key being the artist. \n",
    "\n",
    "\n"
   ]
  },
  {
   "cell_type": "markdown",
   "id": "28aa3f4c-f519-4722-954e-02a94c26651e",
   "metadata": {},
   "source": [
    "### Reference\n",
    "\n",
    "Deniega, J. D. (2024, September 15). ADS 509 assignment 2.1: Tokenization, normalization, descriptive statistics. University of San Diego. https://github.com/vanguardfox/ads509-mod2/blob/main/Deniega_ADS509_A2.ipynb"
   ]
  },
  {
   "cell_type": "code",
   "execution_count": 4,
   "id": "37d70801",
   "metadata": {},
   "outputs": [],
   "source": [
    "# Read in the lyrics data as a data frame with artist and song as multi-index and lyrics as the value\n",
    "lyrics_path = os.path.join(data_location, lyrics_folder)\n",
    "data = []\n",
    "punctuation = string.punctuation + \"'\" # adding because it is one of the top tokens\n",
    "sans_punct = str.maketrans('', '', string.punctuation) # Clean punctuation\n",
    "for artist_folder in os.listdir(lyrics_path):\n",
    "    artist_path = os.path.join(lyrics_path, artist_folder)\n",
    "    if os.path.isdir(artist_path):\n",
    "        for filename in os.listdir(artist_path):\n",
    "            if filename.endswith(\".txt\"):\n",
    "                file_path = os.path.join(artist_path, filename)\n",
    "                with open(file_path, 'r', encoding='utf-8') as file:\n",
    "                    content = file.read()\n",
    "                    lines = content.split('\\n')\n",
    "                    song_title = lines[0].strip('\"') # Title in quotations\n",
    "                    lyrics = ' '.join(lines[4:]).strip() # Lyrics start on line 4\n",
    "                    data.append([artist_folder, song_title, lyrics])\n",
    "lyrics_data = pd.DataFrame(data, columns=['artist', 'song', 'lyrics'])\n",
    "lyrics_data.set_index(['artist', 'song'], inplace=True)"
   ]
  },
  {
   "cell_type": "markdown",
   "id": "0cabb398-ba73-4841-95df-55757f0e14c7",
   "metadata": {},
   "source": [
    "### Note\n",
    "From Deniega (2024)'s submission and template from USD (n.d.) for ADS 509 Assignment 3."
   ]
  },
  {
   "cell_type": "code",
   "execution_count": 5,
   "id": "debcac5a",
   "metadata": {},
   "outputs": [],
   "source": [
    "# Read in the twitter data\n",
    "artist_files = {'cher':'cher_followers_data.txt',\n",
    "                'robyn':'robynkonichiwa_followers_data.txt'}\n",
    "twitter_data = pd.read_csv(data_location + twitter_folder + artist_files['cher'],\n",
    "                           sep=\"\\t\",\n",
    "                           quoting=3)\n",
    "\n",
    "twitter_data['artist'] = \"cher\"\n",
    "twitter_data_2 = pd.read_csv(data_location + twitter_folder + artist_files['robyn'],\n",
    "                             sep=\"\\t\",\n",
    "                             quoting=3)\n",
    "twitter_data_2['artist'] = \"robyn\"\n",
    "\n",
    "twitter_data = pd.concat([\n",
    "    twitter_data,twitter_data_2])\n",
    "    \n",
    "del(twitter_data_2)"
   ]
  },
  {
   "cell_type": "code",
   "execution_count": 6,
   "id": "af9e7a4b",
   "metadata": {},
   "outputs": [],
   "source": [
    "# Read in the positive and negative words and the\n",
    "# tidytext sentiment. Store these so that the positive\n",
    "# words are associated with a score of +1 and negative words\n",
    "# are associated with a score of -1. You can use a dataframe or a \n",
    "# dictionary for this.\n",
    "\n",
    "# Read in files and skip commented lines delimited by ;\n",
    "positive_words = pd.read_csv(positive_words_file, comment=';', header=None, names=['word'])\n",
    "negative_words = pd.read_csv(negative_words_file, comment=';', header=None, names=['word'])\n",
    "tidytext_sentiments = pd.read_csv(tidy_text_file, delimiter='\\t') # Tab delimited CSV\n",
    "\n",
    "# Assign scores\n",
    "positive_words['score'] = 1\n",
    "negative_words['score'] = -1\n",
    "\n",
    "# Combine all words and scores into a single dataframe object\n",
    "sentiments = pd.concat([positive_words, negative_words], ignore_index=True)\n",
    "# Convert dataframe into Dictionary with word as index and score value as mapped value\n",
    "sentiments_dict = pd.Series(sentiments['score'].values, index=sentiments['word']).to_dict()"
   ]
  },
  {
   "cell_type": "markdown",
   "id": "6a5f3b12",
   "metadata": {},
   "source": [
    "## Sentiment Analysis on Songs\n",
    "\n",
    "In this section, score the sentiment for all the songs for both artists in your data set. Score the sentiment by manually calculating the sentiment using the combined lexicons provided in this repository. \n",
    "\n",
    "After you have calculated these sentiments, answer the questions at the end of this section.\n"
   ]
  },
  {
   "cell_type": "code",
   "execution_count": 7,
   "id": "664f8d8f",
   "metadata": {},
   "outputs": [],
   "source": [
    "# your code here\n",
    "def calculate_sentiment(lyrics, sentiment_dict):\n",
    "    words = lyrics.translate(sans_punct).lower().split() #Tokenize, normalize, clean punctuation\n",
    "    sentiment_score = sum(sentiment_dict.get(word, 0) for word in words) # Cummulative score\n",
    "    return sentiment_score"
   ]
  },
  {
   "cell_type": "markdown",
   "id": "7ddf9d72-691c-4d4c-88ad-64935358064a",
   "metadata": {},
   "source": [
    "### Apply calculate_sentiment and save score for each song"
   ]
  },
  {
   "cell_type": "code",
   "execution_count": 8,
   "id": "c7f5cbc2-2d0b-4ab7-9932-de52bf5ac5dc",
   "metadata": {},
   "outputs": [
    {
     "data": {
      "text/html": [
       "<div>\n",
       "<style scoped>\n",
       "    .dataframe tbody tr th:only-of-type {\n",
       "        vertical-align: middle;\n",
       "    }\n",
       "\n",
       "    .dataframe tbody tr th {\n",
       "        vertical-align: top;\n",
       "    }\n",
       "\n",
       "    .dataframe thead th {\n",
       "        text-align: right;\n",
       "    }\n",
       "</style>\n",
       "<table border=\"1\" class=\"dataframe\">\n",
       "  <thead>\n",
       "    <tr style=\"text-align: right;\">\n",
       "      <th></th>\n",
       "      <th></th>\n",
       "      <th>lyrics</th>\n",
       "      <th>sentiment_score</th>\n",
       "    </tr>\n",
       "    <tr>\n",
       "      <th>artist</th>\n",
       "      <th>song</th>\n",
       "      <th></th>\n",
       "      <th></th>\n",
       "    </tr>\n",
       "  </thead>\n",
       "  <tbody>\n",
       "    <tr>\n",
       "      <th rowspan=\"5\" valign=\"top\">robyn</th>\n",
       "      <th>Include Me Out</th>\n",
       "      <td>It is really very simple Just a single pulse, ...</td>\n",
       "      <td>-3</td>\n",
       "    </tr>\n",
       "    <tr>\n",
       "      <th>Electric</th>\n",
       "      <td>Electric...  It's electric It's a natural high...</td>\n",
       "      <td>-6</td>\n",
       "    </tr>\n",
       "    <tr>\n",
       "      <th>Beach 2K20</th>\n",
       "      <td>(So you wanna go out? How you gonna get there?...</td>\n",
       "      <td>20</td>\n",
       "    </tr>\n",
       "    <tr>\n",
       "      <th>Love Kills</th>\n",
       "      <td>If you're looking for love Get a heart made of...</td>\n",
       "      <td>-23</td>\n",
       "    </tr>\n",
       "    <tr>\n",
       "      <th>Time Machine</th>\n",
       "      <td>Hey, what did I do? Can't believe the fit I ju...</td>\n",
       "      <td>-5</td>\n",
       "    </tr>\n",
       "  </tbody>\n",
       "</table>\n",
       "</div>"
      ],
      "text/plain": [
       "                                                                  lyrics  \\\n",
       "artist song                                                                \n",
       "robyn  Include Me Out  It is really very simple Just a single pulse, ...   \n",
       "       Electric        Electric...  It's electric It's a natural high...   \n",
       "       Beach 2K20      (So you wanna go out? How you gonna get there?...   \n",
       "       Love Kills      If you're looking for love Get a heart made of...   \n",
       "       Time Machine    Hey, what did I do? Can't believe the fit I ju...   \n",
       "\n",
       "                       sentiment_score  \n",
       "artist song                             \n",
       "robyn  Include Me Out               -3  \n",
       "       Electric                     -6  \n",
       "       Beach 2K20                   20  \n",
       "       Love Kills                  -23  \n",
       "       Time Machine                 -5  "
      ]
     },
     "execution_count": 8,
     "metadata": {},
     "output_type": "execute_result"
    }
   ],
   "source": [
    "lyrics_data['sentiment_score'] = lyrics_data['lyrics'].apply(lambda x: calculate_sentiment(x, sentiments_dict))\n",
    "lyrics_data.head()"
   ]
  },
  {
   "cell_type": "markdown",
   "id": "2801c102-597c-4176-a250-49b8996a307f",
   "metadata": {},
   "source": [
    "### Retrieve score average, grouped by artist"
   ]
  },
  {
   "cell_type": "code",
   "execution_count": 9,
   "id": "64beb0a0-5969-47f5-b71c-564ece7ba3a0",
   "metadata": {},
   "outputs": [
    {
     "data": {
      "text/plain": [
       "artist\n",
       "cher     3.424051\n",
       "robyn    2.567308\n",
       "Name: sentiment_score, dtype: float64"
      ]
     },
     "execution_count": 9,
     "metadata": {},
     "output_type": "execute_result"
    }
   ],
   "source": [
    "lyrics_data.groupby('artist')['sentiment_score'].mean()"
   ]
  },
  {
   "cell_type": "markdown",
   "id": "bb69e90f-6981-4308-b6ff-4164778986e5",
   "metadata": {},
   "source": [
    "### Questions\n",
    "\n",
    "Q: Overall, which artist has the higher average sentiment per song? \n",
    "\n",
    "A: Cher has the higher sentiment per song at 3.42 vs. Robyn's at 2.57."
   ]
  },
  {
   "cell_type": "code",
   "execution_count": 10,
   "id": "b412099d-7287-43dc-b8e8-f670f2cbcb15",
   "metadata": {},
   "outputs": [
    {
     "data": {
      "text/html": [
       "<div>\n",
       "<style scoped>\n",
       "    .dataframe tbody tr th:only-of-type {\n",
       "        vertical-align: middle;\n",
       "    }\n",
       "\n",
       "    .dataframe tbody tr th {\n",
       "        vertical-align: top;\n",
       "    }\n",
       "\n",
       "    .dataframe thead th {\n",
       "        text-align: right;\n",
       "    }\n",
       "</style>\n",
       "<table border=\"1\" class=\"dataframe\">\n",
       "  <thead>\n",
       "    <tr style=\"text-align: right;\">\n",
       "      <th></th>\n",
       "      <th></th>\n",
       "      <th>lyrics</th>\n",
       "      <th>sentiment_score</th>\n",
       "    </tr>\n",
       "    <tr>\n",
       "      <th>artist</th>\n",
       "      <th>song</th>\n",
       "      <th></th>\n",
       "      <th></th>\n",
       "    </tr>\n",
       "  </thead>\n",
       "  <tbody>\n",
       "    <tr>\n",
       "      <th>robyn</th>\n",
       "      <th>Love Is Free</th>\n",
       "      <td>Free Love is free, baby Free Love is free, bab...</td>\n",
       "      <td>100</td>\n",
       "    </tr>\n",
       "    <tr>\n",
       "      <th rowspan=\"3\" valign=\"top\">cher</th>\n",
       "      <th>Perfection</th>\n",
       "      <td>Hush little Baby, gotta be strong 'Cause in th...</td>\n",
       "      <td>47</td>\n",
       "    </tr>\n",
       "    <tr>\n",
       "      <th>My Love</th>\n",
       "      <td>When I go away I know my heart can stay with m...</td>\n",
       "      <td>44</td>\n",
       "    </tr>\n",
       "    <tr>\n",
       "      <th>Love And Understanding</th>\n",
       "      <td>Here, here in this world Where do we go? Where...</td>\n",
       "      <td>43</td>\n",
       "    </tr>\n",
       "    <tr>\n",
       "      <th rowspan=\"2\" valign=\"top\">robyn</th>\n",
       "      <th>Indestructible</th>\n",
       "      <td>I'm going backwards through time at the speed ...</td>\n",
       "      <td>26</td>\n",
       "    </tr>\n",
       "    <tr>\n",
       "      <th>U Should Know Better</th>\n",
       "      <td>I've gone around the world and the seven seas ...</td>\n",
       "      <td>25</td>\n",
       "    </tr>\n",
       "  </tbody>\n",
       "</table>\n",
       "</div>"
      ],
      "text/plain": [
       "                                                                          lyrics  \\\n",
       "artist song                                                                        \n",
       "robyn  Love Is Free            Free Love is free, baby Free Love is free, bab...   \n",
       "cher   Perfection              Hush little Baby, gotta be strong 'Cause in th...   \n",
       "       My Love                 When I go away I know my heart can stay with m...   \n",
       "       Love And Understanding  Here, here in this world Where do we go? Where...   \n",
       "robyn  Indestructible          I'm going backwards through time at the speed ...   \n",
       "       U Should Know Better    I've gone around the world and the seven seas ...   \n",
       "\n",
       "                               sentiment_score  \n",
       "artist song                                     \n",
       "robyn  Love Is Free                        100  \n",
       "cher   Perfection                           47  \n",
       "       My Love                              44  \n",
       "       Love And Understanding               43  \n",
       "robyn  Indestructible                       26  \n",
       "       U Should Know Better                 25  "
      ]
     },
     "execution_count": 10,
     "metadata": {},
     "output_type": "execute_result"
    }
   ],
   "source": [
    "lyrics_data.sort_values(by='sentiment_score', ascending=False).groupby('artist').head(3)"
   ]
  },
  {
   "cell_type": "code",
   "execution_count": 11,
   "id": "4c23ceef-db0c-469f-b32c-dd0d4aa01933",
   "metadata": {},
   "outputs": [
    {
     "data": {
      "text/html": [
       "<div>\n",
       "<style scoped>\n",
       "    .dataframe tbody tr th:only-of-type {\n",
       "        vertical-align: middle;\n",
       "    }\n",
       "\n",
       "    .dataframe tbody tr th {\n",
       "        vertical-align: top;\n",
       "    }\n",
       "\n",
       "    .dataframe thead th {\n",
       "        text-align: right;\n",
       "    }\n",
       "</style>\n",
       "<table border=\"1\" class=\"dataframe\">\n",
       "  <thead>\n",
       "    <tr style=\"text-align: right;\">\n",
       "      <th></th>\n",
       "      <th></th>\n",
       "      <th>lyrics</th>\n",
       "      <th>sentiment_score</th>\n",
       "    </tr>\n",
       "    <tr>\n",
       "      <th>artist</th>\n",
       "      <th>song</th>\n",
       "      <th></th>\n",
       "      <th></th>\n",
       "    </tr>\n",
       "  </thead>\n",
       "  <tbody>\n",
       "    <tr>\n",
       "      <th rowspan=\"2\" valign=\"top\">cher</th>\n",
       "      <th>When You Walk Away</th>\n",
       "      <td>So leave if you're leaving  Go if you must go ...</td>\n",
       "      <td>-17</td>\n",
       "    </tr>\n",
       "    <tr>\n",
       "      <th>Outrageous</th>\n",
       "      <td>Outrageous, outrageous (They say) I'm outrageo...</td>\n",
       "      <td>-23</td>\n",
       "    </tr>\n",
       "    <tr>\n",
       "      <th>robyn</th>\n",
       "      <th>Love Kills</th>\n",
       "      <td>If you're looking for love Get a heart made of...</td>\n",
       "      <td>-23</td>\n",
       "    </tr>\n",
       "    <tr>\n",
       "      <th>cher</th>\n",
       "      <th>I Walk On Guilded Splinters</th>\n",
       "      <td>Some people think they jive me, but I know the...</td>\n",
       "      <td>-25</td>\n",
       "    </tr>\n",
       "    <tr>\n",
       "      <th rowspan=\"2\" valign=\"top\">robyn</th>\n",
       "      <th>Criminal Intent</th>\n",
       "      <td>Somebody alert the authorities, I got criminal...</td>\n",
       "      <td>-52</td>\n",
       "    </tr>\n",
       "    <tr>\n",
       "      <th>Don't Fucking Tell Me What To Do</th>\n",
       "      <td>My drinking is killing me My drinking is killi...</td>\n",
       "      <td>-76</td>\n",
       "    </tr>\n",
       "  </tbody>\n",
       "</table>\n",
       "</div>"
      ],
      "text/plain": [
       "                                                                                    lyrics  \\\n",
       "artist song                                                                                  \n",
       "cher   When You Walk Away                So leave if you're leaving  Go if you must go ...   \n",
       "       Outrageous                        Outrageous, outrageous (They say) I'm outrageo...   \n",
       "robyn  Love Kills                        If you're looking for love Get a heart made of...   \n",
       "cher   I Walk On Guilded Splinters       Some people think they jive me, but I know the...   \n",
       "robyn  Criminal Intent                   Somebody alert the authorities, I got criminal...   \n",
       "       Don't Fucking Tell Me What To Do  My drinking is killing me My drinking is killi...   \n",
       "\n",
       "                                         sentiment_score  \n",
       "artist song                                               \n",
       "cher   When You Walk Away                            -17  \n",
       "       Outrageous                                    -23  \n",
       "robyn  Love Kills                                    -23  \n",
       "cher   I Walk On Guilded Splinters                   -25  \n",
       "robyn  Criminal Intent                               -52  \n",
       "       Don't Fucking Tell Me What To Do              -76  "
      ]
     },
     "execution_count": 11,
     "metadata": {},
     "output_type": "execute_result"
    }
   ],
   "source": [
    "# Note. Needed to handle this differently (drop_duplicates) because \n",
    "#       some songs were duplicated when attempting .tail(3)\n",
    "sorted_lyrics_data = lyrics_data.sort_values(by='sentiment_score', ascending=False)\n",
    "unique_sorted_lyrics_data = sorted_lyrics_data.drop_duplicates(subset=['lyrics'])\n",
    "bottom_songs = unique_sorted_lyrics_data.groupby('artist').tail(3)\n",
    "bottom_songs"
   ]
  },
  {
   "cell_type": "markdown",
   "id": "59b077f6-adbe-4c23-ab7e-08fee3c79507",
   "metadata": {},
   "source": [
    "Q: For your first artist, what are the three songs that have the highest and lowest sentiments? Print the lyrics of those songs to the screen. What do you think is driving the sentiment score? \n",
    "\n",
    "A: The three highest sentiments for Cher are Perfection, My Love, and Love and Understanding.  The lowest sentiments for her are from When You Walk Away, Outrageous, and I Walk On Guilded Splinters. It is rather apparent that the song title and the lyrics highly correlate with each other. The resulting subject matter of optimistic romantic language drives positive sentiment scores such as from the words \"love\" and \"perfection\". Words that collapse toward death or painful themes tend to drive negative sentiment scores such as from \"away\", \"outrageous\", and \"splinters\"."
   ]
  },
  {
   "cell_type": "markdown",
   "id": "61d78d1d-3868-44d4-91d3-18f2c1ea4bcd",
   "metadata": {},
   "source": [
    "Q: For your second artist, what are the three songs that have the highest and lowest sentiments? Print the lyrics of those songs to the screen. What do you think is driving the sentiment score? \n",
    "\n",
    "A: The three highest sentiments for Robyn are Love is Free, Indestructible, and U Should Know Better. The three lowest song sentiments are from Love Kills, Criminal Intent, and Don't Fucking Tell Me What To Do. Similar to Cher's findings, positive words like \"love\" and \"indestructible\" influence the theme of words used in corresponding lyrics. On the negative side, the words \"kills\", \"criminal\" and \"fucking\" suggest more use of negative scoring words in the lyrics."
   ]
  },
  {
   "cell_type": "markdown",
   "id": "1f8334f4",
   "metadata": {},
   "source": [
    "Q: Plot the distributions of the sentiment scores for both artists. You can use `seaborn` to plot densities or plot histograms in matplotlib."
   ]
  },
  {
   "cell_type": "code",
   "execution_count": 12,
   "id": "3f68beb5-6f84-49c9-97cd-0d2e3ebe0f4b",
   "metadata": {},
   "outputs": [
    {
     "name": "stderr",
     "output_type": "stream",
     "text": [
      "/var/folders/4j/vvgx0bbx7313m1cgfdrp_4b00000gn/T/ipykernel_3367/3578518746.py:1: PerformanceWarning: indexing past lexsort depth may impact performance.\n",
      "  cher_sentiment = lyrics_data.loc['cher', 'sentiment_score']\n",
      "/var/folders/4j/vvgx0bbx7313m1cgfdrp_4b00000gn/T/ipykernel_3367/3578518746.py:2: PerformanceWarning: indexing past lexsort depth may impact performance.\n",
      "  robyn_sentiment = lyrics_data.loc['robyn', 'sentiment_score']\n"
     ]
    },
    {
     "data": {
      "image/png": "[encoded data removed]",
      "text/plain": [
       "<Figure size 1000x600 with 1 Axes>"
      ]
     },
     "metadata": {},
     "output_type": "display_data"
    }
   ],
   "source": [
    "cher_sentiment = lyrics_data.loc['cher', 'sentiment_score']\n",
    "robyn_sentiment = lyrics_data.loc['robyn', 'sentiment_score']\n",
    "plt.figure(figsize=(10,6))\n",
    "# Using alpha=.5 to visualize overlapping distributions\n",
    "plt.hist(cher_sentiment, bins=20, alpha=.5, label='Cher', color='orange')\n",
    "plt.hist(robyn_sentiment, bins=20, alpha=.5, label='Robyn', color='blue')\n",
    "plt.title('Distribution of Sentiment Scores for Artists')\n",
    "plt.xlabel('Sentiment Score')\n",
    "plt.ylabel('Frequency')\n",
    "plt.legend()\n",
    "plt.show()"
   ]
  },
  {
   "cell_type": "markdown",
   "id": "b3fe644d",
   "metadata": {},
   "source": [
    "## Sentiment Analysis on Twitter Descriptions\n",
    "\n",
    "In this section, define two sets of emojis you designate as positive and negative. Make sure to have at least 10 emojis per set. You can learn about the most popular emojis on Twitter at [the emojitracker](https://emojitracker.com/). \n",
    "\n",
    "Associate your positive emojis with a score of +1, negative with -1. Score the average sentiment of your two artists based on the Twitter descriptions of their followers. The average sentiment can just be the total score divided by number of followers. You do not need to calculate sentiment on non-emoji content for this section."
   ]
  },
  {
   "cell_type": "code",
   "execution_count": 13,
   "id": "1a5c1d25",
   "metadata": {},
   "outputs": [],
   "source": [
    "# your code here\n",
    "# First obvious emojis for each category in iOS keyboard\n",
    "positive_emojis = ['😀', '😃', '😄', '😁', '☺️', '😊', '😇', '🙂', '😍', '🥰']\n",
    "negative_emojis = ['😞', '😔', '😟', '😕', '🙁', '☹️', '😣', '😖', '😫', '😩']\n",
    "\n",
    "# Assign numerical value to each emoji as a DataFrame\n",
    "positive_emoji_df = pd.DataFrame({'emoji': positive_emojis, 'score': 1})\n",
    "negative_emoji_df = pd.DataFrame({'emoji': negative_emojis, 'score': -1})\n",
    "\n",
    "# Since only score matters, make dictionary object where emojis map to their assigned values\n",
    "emoji_sentiment = pd.concat([positive_emoji_df, negative_emoji_df], ignore_index=True)\n",
    "emoji_sentiment_dict = pd.Series(emoji_sentiment['score'].values, index=emoji_sentiment['emoji']).to_dict()\n"
   ]
  },
  {
   "cell_type": "code",
   "execution_count": 14,
   "id": "77a272f9-5395-4a52-8643-fe3ce0b46b82",
   "metadata": {},
   "outputs": [],
   "source": [
    "def calculate_emoji_sentiment(text, emoji_sentiment_dict):\n",
    "    if pd.isnull(text): # Check for empty\n",
    "        return 0 # Return value of zero if no emoji in text\n",
    "    return sum(emoji_sentiment_dict.get(char, 0) for char in text) # Check ea. character; return sum"
   ]
  },
  {
   "cell_type": "markdown",
   "id": "c3a1e228-7468-48b7-b36f-968d8abcaced",
   "metadata": {},
   "source": [
    "### Apply calculate_emoji_sentiment and save score for each description"
   ]
  },
  {
   "cell_type": "code",
   "execution_count": 15,
   "id": "d91bd449-6a5f-4ada-8d4d-2c763b31ec0c",
   "metadata": {},
   "outputs": [
    {
     "data": {
      "text/plain": [
       "artist\n",
       "cher     0.006446\n",
       "robyn    0.002531\n",
       "Name: emoji_sentiment_score, dtype: float64"
      ]
     },
     "execution_count": 15,
     "metadata": {},
     "output_type": "execute_result"
    }
   ],
   "source": [
    "twitter_data['emoji_sentiment_score'] = twitter_data['description'].apply(lambda x: calculate_emoji_sentiment(x, emoji_sentiment_dict))\n",
    "twitter_data.groupby('artist')['emoji_sentiment_score'].mean()"
   ]
  },
  {
   "cell_type": "markdown",
   "id": "fb92eb93",
   "metadata": {},
   "source": [
    "Q: What is the average sentiment of your two artists? \n",
    "\n",
    "A: The average sentiment is 0.0064 for Cher and 0.0025 for Robyn. These averages being so close to zero may largely be attributed to most of the posts containing zero emojis. In other iterations, it may be useful to include emojis with a dictionary of words as there might not be enough significance using emojis alone. Otherwise, we may interpret sentiment of these two artists as neutral on emoji terms."
   ]
  },
  {
   "cell_type": "code",
   "execution_count": 16,
   "id": "c59390e6-4398-4062-b375-07dd17bda354",
   "metadata": {},
   "outputs": [],
   "source": [
    "def extract_emoji_counts(df, emoji_list):\n",
    "    emoji_counts = Counter() # Initialize object\n",
    "    for description in df['description'].fillna(''): # Handle nulls\n",
    "        emojis = [e for e in description if e in emoji_list] # Check for emojis and save in list\n",
    "        emoji_counts.update(emojis) # Update counter with list above\n",
    "    return emoji_counts\n",
    "\n",
    "def top_emoji_artist(df, positive_emojis, negative_emojis):\n",
    "    artist_emojis = {} # Initialize\n",
    "    for artist in df['artist'].unique(): # For each unique artist\n",
    "        artist_data = df[df['artist'] == artist] # Subset the DataFrame by artist\n",
    "\n",
    "        # Create counter of positive and negative emoji counts; store top one\n",
    "        positive_counts = extract_emoji_counts(artist_data, positive_emojis)\n",
    "        top_positive_emoji = positive_counts.most_common(1)\n",
    "        negative_counts = extract_emoji_counts(artist_data, negative_emojis)\n",
    "        top_negative_emoji = negative_counts.most_common(1)\n",
    "\n",
    "        # For printing purposes, make dictionary to output results\n",
    "        artist_emojis[artist] = {\n",
    "            'top_positive_emoji': top_positive_emoji,\n",
    "            'top_negative_emoji': top_negative_emoji\n",
    "        }\n",
    "    return artist_emojis"
   ]
  },
  {
   "cell_type": "code",
   "execution_count": 18,
   "id": "3390ac97-e984-448a-a80a-4a037ba11087",
   "metadata": {},
   "outputs": [
    {
     "data": {
      "text/plain": [
       "{'cher': {'top_positive_emoji': [('😍', 8189)],\n",
       "  'top_negative_emoji': [('😔', 387)]},\n",
       " 'robyn': {'top_positive_emoji': [('😍', 264)],\n",
       "  'top_negative_emoji': [('😩', 13)]}}"
      ]
     },
     "execution_count": 18,
     "metadata": {},
     "output_type": "execute_result"
    }
   ],
   "source": [
    "top_emoji_artist(twitter_data, positive_emojis, negative_emojis)"
   ]
  },
  {
   "cell_type": "markdown",
   "id": "b5849ba4-b89b-4b59-93b7-7e92cde97443",
   "metadata": {},
   "source": [
    "Q: Which positive emoji is the most popular for each artist? Which negative emoji? \n",
    "\n",
    "A: Cher's most popular positive emoji is a smiling heart-eye emoji 😍 at 8189. Her most popular negative emoji is a frowning emoji 😔 at 387. Robyn's most popular positive emoji is the same as Cher's, but 264 times. Her most popular negative emoji is a gasping frowning face 😩 at 13 times."
   ]
  }
 ],
 "metadata": {
  "kernelspec": {
   "display_name": "Python 3 (ipykernel)",
   "language": "python",
   "name": "python3"
  },
  "language_info": {
   "codemirror_mode": {
    "name": "ipython",
    "version": 3
   },
   "file_extension": ".py",
   "mimetype": "text/x-python",
   "name": "python",
   "nbconvert_exporter": "python",
   "pygments_lexer": "ipython3",
   "version": "3.11.5"
  }
 },
 "nbformat": 4,
 "nbformat_minor": 5
}
